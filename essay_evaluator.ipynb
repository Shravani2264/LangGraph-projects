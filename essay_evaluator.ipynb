{
 "cells": [
  {
   "cell_type": "code",
   "execution_count": null,
   "id": "3ae9fec3",
   "metadata": {},
   "outputs": [],
   "source": [
    "from langgraph.graph import StateGraph, START, END\n",
    "from langchain_google_genai import ChatGoogleGenerativeAI\n",
    "from dotenv import load_dotenv\n",
    "from typing import TypedDict, Annotated, List\n",
    "from pydantic import BaseModel, Field\n",
    "import os\n",
    "import operator"
   ]
  },
  {
   "cell_type": "code",
   "execution_count": 43,
   "id": "5e2f2927",
   "metadata": {},
   "outputs": [
    {
     "data": {
      "text/plain": [
       "True"
      ]
     },
     "execution_count": 43,
     "metadata": {},
     "output_type": "execute_result"
    }
   ],
   "source": [
    "load_dotenv()"
   ]
  },
  {
   "cell_type": "code",
   "execution_count": 44,
   "id": "5319be76",
   "metadata": {},
   "outputs": [
    {
     "name": "stdout",
     "output_type": "stream",
     "text": [
      "Running from: c:\\Users\\Admin\\Desktop\\langGraph\\BMI_cal\n"
     ]
    }
   ],
   "source": [
    "print(f\"Running from: {os.getcwd()}\")"
   ]
  },
  {
   "cell_type": "code",
   "execution_count": 45,
   "id": "e4d246d7",
   "metadata": {},
   "outputs": [],
   "source": [
    "model = ChatGoogleGenerativeAI(model=\"gemini-1.5-flash\",)"
   ]
  },
  {
   "cell_type": "code",
   "execution_count": 57,
   "id": "dc037e33",
   "metadata": {},
   "outputs": [],
   "source": [
    "class EvaluationSchema(BaseModel):\n",
    "    feedback: str = Field(description='detailed feedback for the essay')\n",
    "    # Change the type from str to int\n",
    "    score: int = Field(description='score out of 10', ge=0, le=10)"
   ]
  },
  {
   "cell_type": "code",
   "execution_count": 58,
   "id": "cf11e254",
   "metadata": {},
   "outputs": [],
   "source": [
    "structured_model = model.with_structured_output(EvaluationSchema)"
   ]
  },
  {
   "cell_type": "code",
   "execution_count": 67,
   "id": "bbefa4ba",
   "metadata": {},
   "outputs": [],
   "source": [
    "class EssayState(TypedDict):\n",
    "    essay: str\n",
    "    language_feedback: str\n",
    "    analysis_feedback: str\n",
    "    clarity_feedback: str\n",
    "    overall_feedback: str\n",
    "\n",
    "    individual_scores: Annotated[list[int], operator.add]\n",
    "    avg_score: float\n"
   ]
  },
  {
   "cell_type": "code",
   "execution_count": 68,
   "id": "dc4243c3",
   "metadata": {},
   "outputs": [],
   "source": [
    "def evaluate_language(state: EssayState):\n",
    "    prompt = f'evaluate the language quality of the following essay and provide a feedback and assign a score out of 10\\n {state['essay']}'\n",
    "    output = structured_model.invoke(prompt)\n",
    "\n",
    "    return {'language_feedback': output.feedback, 'individual_scores': [output.score]}"
   ]
  },
  {
   "cell_type": "code",
   "execution_count": 69,
   "id": "e7c8bd6c",
   "metadata": {},
   "outputs": [],
   "source": [
    "def evaluate_analysis(state: EssayState):\n",
    "    prompt = f'evaluate the depth of analysis of the following essay and provide a feedback and assign a score out of 10\\n {state['essay']}'\n",
    "    output = structured_model.invoke(prompt)\n",
    "\n",
    "    return {'analysis_feedback': output.feedback, 'individual_scores': [output.score]}"
   ]
  },
  {
   "cell_type": "code",
   "execution_count": 70,
   "id": "a8470dfe",
   "metadata": {},
   "outputs": [],
   "source": [
    "def evaluate_thought(state: EssayState):\n",
    "    prompt = f'evaluate the clarity of thought of the following essay and provide a feedback and assign a score out of 10\\n {state['essay']}'\n",
    "    output = structured_model.invoke(prompt)\n",
    "\n",
    "    return {'clarity_feedback': output.feedback, 'individual_scores': [output.score]}"
   ]
  },
  {
   "cell_type": "code",
   "execution_count": 71,
   "id": "32896bfd",
   "metadata": {},
   "outputs": [],
   "source": [
    "def final_evaluate(state: EssayState):\n",
    "   prompt = f'Based on the following feedbacks create a summarized feedback \\n language feedback - {state[\"language_feedback\"]} \\n depth of analysis feedback - {state[\"analysis_feedback\"]} \\n clarity of thought feedback - {state[\"clarity_feedback\"]}'\n",
    "   overall_feedback = model.invoke(prompt).content\n",
    "   avg_score = sum(state['individual_scores'])/len(state['individual_scores'])\n",
    "   \n",
    "   return {'overall_feedback': overall_feedback, 'avg_score': avg_score}"
   ]
  },
  {
   "cell_type": "code",
   "execution_count": 72,
   "id": "31ec3057",
   "metadata": {},
   "outputs": [],
   "source": [
    "graph = StateGraph(EssayState)\n",
    "graph.add_node('evaluate_language', evaluate_language)\n",
    "graph.add_node('evaluate_analysis', evaluate_analysis)\n",
    "graph.add_node('evaluate_thought', evaluate_thought)\n",
    "graph.add_node('final_evaluate', final_evaluate)\n",
    "\n",
    "graph.add_edge(START, \"evaluate_language\")\n",
    "graph.add_edge(START, \"evaluate_analysis\")\n",
    "graph.add_edge(START, \"evaluate_thought\")\n",
    "graph.add_edge(\"evaluate_language\", 'final_evaluate')\n",
    "graph.add_edge(\"evaluate_analysis\", 'final_evaluate')\n",
    "graph.add_edge(\"evaluate_thought\", 'final_evaluate')\n",
    "graph.add_edge('final_evaluate', END)\n",
    "\n",
    "workflow = graph.compile()"
   ]
  },
  {
   "cell_type": "code",
   "execution_count": 73,
   "id": "2e829e62",
   "metadata": {},
   "outputs": [],
   "source": [
    "essay = \"\"\"India in the Age of AI\n",
    "As the world enters a transformative era defined by artificial intelligence (AI), India stands at a critical juncture — one where it can either emerge as a global leader in AI innovation or risk falling behind in the technology race. The age of AI brings with it immense promise as well as unprecedented challenges, and how India navigates this landscape will shape its socio-economic and geopolitical future.\n",
    "\n",
    "India's strengths in the AI domain are rooted in its vast pool of skilled engineers, a thriving IT industry, and a growing startup ecosystem. With over 5 million STEM graduates annually and a burgeoning base of AI researchers, India possesses the intellectual capital required to build cutting-edge AI systems. Institutions like IITs, IIITs, and IISc have begun fostering AI research, while private players such as TCS, Infosys, and Wipro are integrating AI into their global services. In 2020, the government launched the National AI Strategy (AI for All) with a focus on inclusive growth, aiming to leverage AI in healthcare, agriculture, education, and smart mobility.\n",
    "\n",
    "One of the most promising applications of AI in India lies in agriculture, where predictive analytics can guide farmers on optimal sowing times, weather forecasts, and pest control. In healthcare, AI-powered diagnostics can help address India’s doctor-patient ratio crisis, particularly in rural areas. Educational platforms are increasingly using AI to personalize learning paths, while smart governance tools are helping improve public service delivery and fraud detection.\n",
    "\n",
    "However, the path to AI-led growth is riddled with challenges. Chief among them is the digital divide. While metropolitan cities may embrace AI-driven solutions, rural India continues to struggle with basic internet access and digital literacy. The risk of job displacement due to automation also looms large, especially for low-skilled workers. Without effective skilling and re-skilling programs, AI could exacerbate existing socio-economic inequalities.\n",
    "\n",
    "Another pressing concern is data privacy and ethics. As AI systems rely heavily on vast datasets, ensuring that personal data is used transparently and responsibly becomes vital. India is still shaping its data protection laws, and in the absence of a strong regulatory framework, AI systems may risk misuse or bias.\n",
    "\n",
    "To harness AI responsibly, India must adopt a multi-stakeholder approach involving the government, academia, industry, and civil society. Policies should promote open datasets, encourage responsible innovation, and ensure ethical AI practices. There is also a need for international collaboration, particularly with countries leading in AI research, to gain strategic advantage and ensure interoperability in global systems.\n",
    "\n",
    "India’s demographic dividend, when paired with responsible AI adoption, can unlock massive economic growth, improve governance, and uplift marginalized communities. But this vision will only materialize if AI is seen not merely as a tool for automation, but as an enabler of human-centered development.\n",
    "\n",
    "In conclusion, India in the age of AI is a story in the making — one of opportunity, responsibility, and transformation. The decisions we make today will not just determine India’s AI trajectory, but also its future as an inclusive, equitable, and innovation-driven society.\"\"\""
   ]
  },
  {
   "cell_type": "code",
   "execution_count": 74,
   "id": "027d6ec1",
   "metadata": {},
   "outputs": [
    {
     "data": {
      "text/plain": [
       "{'essay': \"India in the Age of AI\\nAs the world enters a transformative era defined by artificial intelligence (AI), India stands at a critical juncture — one where it can either emerge as a global leader in AI innovation or risk falling behind in the technology race. The age of AI brings with it immense promise as well as unprecedented challenges, and how India navigates this landscape will shape its socio-economic and geopolitical future.\\n\\nIndia's strengths in the AI domain are rooted in its vast pool of skilled engineers, a thriving IT industry, and a growing startup ecosystem. With over 5 million STEM graduates annually and a burgeoning base of AI researchers, India possesses the intellectual capital required to build cutting-edge AI systems. Institutions like IITs, IIITs, and IISc have begun fostering AI research, while private players such as TCS, Infosys, and Wipro are integrating AI into their global services. In 2020, the government launched the National AI Strategy (AI for All) with a focus on inclusive growth, aiming to leverage AI in healthcare, agriculture, education, and smart mobility.\\n\\nOne of the most promising applications of AI in India lies in agriculture, where predictive analytics can guide farmers on optimal sowing times, weather forecasts, and pest control. In healthcare, AI-powered diagnostics can help address India’s doctor-patient ratio crisis, particularly in rural areas. Educational platforms are increasingly using AI to personalize learning paths, while smart governance tools are helping improve public service delivery and fraud detection.\\n\\nHowever, the path to AI-led growth is riddled with challenges. Chief among them is the digital divide. While metropolitan cities may embrace AI-driven solutions, rural India continues to struggle with basic internet access and digital literacy. The risk of job displacement due to automation also looms large, especially for low-skilled workers. Without effective skilling and re-skilling programs, AI could exacerbate existing socio-economic inequalities.\\n\\nAnother pressing concern is data privacy and ethics. As AI systems rely heavily on vast datasets, ensuring that personal data is used transparently and responsibly becomes vital. India is still shaping its data protection laws, and in the absence of a strong regulatory framework, AI systems may risk misuse or bias.\\n\\nTo harness AI responsibly, India must adopt a multi-stakeholder approach involving the government, academia, industry, and civil society. Policies should promote open datasets, encourage responsible innovation, and ensure ethical AI practices. There is also a need for international collaboration, particularly with countries leading in AI research, to gain strategic advantage and ensure interoperability in global systems.\\n\\nIndia’s demographic dividend, when paired with responsible AI adoption, can unlock massive economic growth, improve governance, and uplift marginalized communities. But this vision will only materialize if AI is seen not merely as a tool for automation, but as an enabler of human-centered development.\\n\\nIn conclusion, India in the age of AI is a story in the making — one of opportunity, responsibility, and transformation. The decisions we make today will not just determine India’s AI trajectory, but also its future as an inclusive, equitable, and innovation-driven society.\",\n",
       " 'language_feedback': \"The essay presents a well-structured and comprehensive analysis of India's position in the age of AI.  It effectively highlights both the potential benefits and challenges, covering key areas such as technological capabilities, applications in various sectors, and crucial concerns like the digital divide and data privacy. The writing is clear, concise, and engaging, demonstrating a strong understanding of the subject matter.  Minor improvements could include providing specific examples of AI initiatives in different sectors and elaborating on potential solutions to address the challenges discussed.  The conclusion effectively summarizes the main points and offers a forward-looking perspective.\",\n",
       " 'analysis_feedback': \"The essay provides a good overview of India's AI landscape, covering both its potential and challenges.  However, the analysis lacks depth in several areas.  For example, while the essay mentions the digital divide, it doesn't delve into specific strategies to bridge it. Similarly, the discussion on data privacy and ethics is superficial, without exploring specific legal or regulatory frameworks.  The essay would benefit from more concrete examples and a more critical examination of the potential downsides of AI adoption in India.  The conclusion is somewhat generic and doesn't offer specific recommendations for policymakers or stakeholders.\",\n",
       " 'clarity_feedback': \"The essay presents a well-structured and comprehensive overview of India's journey into the age of AI.  It effectively highlights both the opportunities and challenges, showcasing a balanced perspective. The discussion on the digital divide, job displacement, and data privacy is particularly insightful.  However, the conclusion could be strengthened by offering more specific policy recommendations or actionable steps.  The writing style is clear and engaging, making it accessible to a broad audience.\",\n",
       " 'overall_feedback': \"The essay offers a well-structured and comprehensive overview of India's AI landscape, effectively highlighting both its potential and challenges.  The writing is clear and engaging, demonstrating a strong understanding of the subject matter. However, the analysis lacks depth in several areas, particularly regarding strategies to address the digital divide, data privacy concerns, and potential downsides of AI adoption.  More concrete examples, a more critical examination of challenges, and specific policy recommendations are needed to strengthen the analysis and conclusion.  Adding specific examples of AI initiatives and elaborating on potential solutions would significantly improve the essay.\",\n",
       " 'individual_scores': [7, 9, 8],\n",
       " 'avg_score': 8.0}"
      ]
     },
     "execution_count": 74,
     "metadata": {},
     "output_type": "execute_result"
    }
   ],
   "source": [
    "initial_state = {\n",
    "    'essay': essay \n",
    "}\n",
    "\n",
    "workflow.invoke(initial_state)"
   ]
  },
  {
   "cell_type": "code",
   "execution_count": null,
   "id": "71d8885d",
   "metadata": {},
   "outputs": [],
   "source": []
  }
 ],
 "metadata": {
  "kernelspec": {
   "display_name": "myvenv",
   "language": "python",
   "name": "python3"
  },
  "language_info": {
   "codemirror_mode": {
    "name": "ipython",
    "version": 3
   },
   "file_extension": ".py",
   "mimetype": "text/x-python",
   "name": "python",
   "nbconvert_exporter": "python",
   "pygments_lexer": "ipython3",
   "version": "3.13.5"
  }
 },
 "nbformat": 4,
 "nbformat_minor": 5
}
